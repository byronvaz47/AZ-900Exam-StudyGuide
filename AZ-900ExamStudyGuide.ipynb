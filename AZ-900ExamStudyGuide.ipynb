{
 "cells": [
  {
   "attachments": {},
   "cell_type": "markdown",
   "metadata": {},
   "source": [
    "## <font color=\"Green\">Exam AZ-900 Microsoft Azure Fundementals</font>\n",
    "\n",
    "\n"
   ]
  },
  {
   "attachments": {},
   "cell_type": "markdown",
   "metadata": {},
   "source": [
    ">>## <center><ins>`Azure Portal`<ins></center>\n",
    ">>>### `Personalize`\n",
    ">>>>- create your own dashboard layouts and workflows colors \n",
    ">>>### `Access control`   \n",
    ">>>>- Acecess control to all your resoures \n",
    ">>>>- will make management and governance easier \n",
    ">>>### `Cost Management`\n",
    ">>>>- tooling to keep track of current and protected spend for azure resources. \n",
    ">>>### `One Stop Shop`\n",
    ">>>>- single portal single login for all your Azure assets \n",
    ">>>>- azure management.\n",
    ">>>### `Constantly updated`\n",
    ">>>>- portal features and products are constanly updated. \n",
    ">>>>- greatest and latest can get confusing. \n",
    ">>>### `Mobile Access` \n",
    ">>>>- Azure is available on the web, and various mobile devices ios and android.\n",
    "\n"
   ]
  },
  {
   "attachments": {},
   "cell_type": "markdown",
   "metadata": {},
   "source": [
    ">>## <center><ins>`Azure Command Line Interface`</ins></center>\n",
    ">>>### `Stable`\n",
    ">>>>- text commands dont change and `CLI` is in stable state. \n",
    ">>>### `Structure` \n",
    ">>>>- `CLI` commands are structured very logically and follow the same patterns. \n",
    ">>>### `Cross Platform`\n",
    ">>>>- CLI works on windows mac and linux. \n",
    ">>>### `Automation` \n",
    ">>>>- is simple to automate the `CLI` commands for future use.\n",
    ">>>### `Logging` \n",
    ">>>>- Keeps track of who ran what command and when in various ways. \n",
    ">>## <center><ins>`Azure PowerShell`</ins> </center>\n",
    ">>>### `Cmdlet`\n",
    ">>>>- a script that performs a specific task\n",
    ">>>>- \"New-AzVM\" creates a new `Virtual Machine`. \n",
    ">>>### `Azure Resource Manager`\n",
    ">>>>- Powershell also uses the Resource Manager like the portal to minipulate `Azure Resources`.\n",
    ">>>### `Versatile`\n",
    ">>>>- you can use PowerShell for many other tasks and areas Not just for azure.\n",
    ">>>>- has its own language.\n",
    ">>## <center>`Cloud Shell`<center>\n",
    ">>>### `Access` \n",
    ">>>>- acccess from anywhere using web or mobile app. \n",
    ">>>>- Authenticated and secure.\n",
    ">>>### Shell\n",
    ">>>>- choose betweem Bash(Azure CLI) or PowerShell.\n",
    ">>>### Tools  \n",
    ">>>>- includes interpreters, modules, and Azure tools.\n",
    ">>>>- Language support: Node.js, .NET and python.\n",
    ">>>### `Storage`\n",
    ">>>>- Dedicated Storage to presist data betweem sessions \n",
    ">>>### `File Editor` \n",
    ">>>> - A complete file editor \n",
    ">>>> - With access to directories \n",
    "\n"
   ]
  },
  {
   "attachments": {},
   "cell_type": "markdown",
   "metadata": {},
   "source": [
    "># <center>`The Language of Cloud computing`<center>\n",
    ">> ## `High availability`  \n",
    ">>>### `Traditional` \n",
    ">>>>- you own the hardware \n",
    ">>>>- physical access \n",
    ">>>>- cant just add servers\n",
    ">>>### `Cloud` \n",
    ">>>>- you dont own hardware \n",
    ">>>>- add more servers with a click \n",
    ">>>>- if hardware fails, replace it instantly \n",
    ">>>>- use clusters to ensure high avalibility\n",
    ">>>### Reliablity \n",
    ">>>>#### Resilience \n",
    ">>>>>- the ability og a system to recover from failures and continue to function\n",
    ">>>#### Deploy in Multiple Location \n",
    ">>>>- Global scale computing \n",
    ">>>- Protects against regional faluire/disasters \n",
    ">>#### No Singlr Point of Failaure \n",
    ">>> - resources in multiple location \n",
    ">>> -if one comp. goes down, other picks up the load. \n",
    ">\n",
    "# Scalability \n",
    "### Automatically adjust resources to meet demand \n",
    "- increase the number of VMs ot servers to handle peak traffic \n",
    "### Dont over pay for Service \n",
    "- automatically reduce resources when demand drops \n",
    "\n",
    "\n",
    "\n",
    "|Horizontal           VS.                 | Vertical      | \n",
    "|-----------------------------------------|---------------|\n",
    "|<ul><li>Adding additional VMs<li>\"scailing out\"</ul></li>| <ul><li>increasing power(CPU/RAM) of existing VMs/containers</li><br><li>\\\"scailing up\"</li></ul>|"
   ]
  },
  {
   "attachments": {},
   "cell_type": "markdown",
   "metadata": {},
   "source": [
    "# `Predictabiliy`\n",
    "## Predictable Performance and Cost \n",
    "### Performance \n",
    "- Consisitent experience for customers reguardless of traffic \n",
    "- Autoscailing load balancing and high availability provide a consistent experience \n",
    "### Cost \n",
    "- no unexpected suprises \n",
    "- Track and Forcast resources usage costs in real time. \n",
    "-Analytics provide patterns/trends to optimize usage. "
   ]
  },
  {
   "attachments": {},
   "cell_type": "markdown",
   "metadata": {},
   "source": [
    "# `The Language of Cloud Economics` \n",
    "## Capital Expenditure \n",
    "- Money spent by a buisness or organiztation on acquiring or maintaing fixed assets\n",
    "- such as land, building and equipment. \n",
    "## Operational Expenditure \n",
    "- An on going cost for runing a product buisness or sysyem\n",
    "- on a day-to-day basis, including annual costs.\n",
    "## CLoud Pricing Models \n",
    "### Consumption baseed pricing \n",
    "- you pay: persecond per execution and combination.(VMs,App services) \n",
    "- pay for resources used not whats on \n",
    "- based on resource per second resource consumption and execution pay as u go \n",
    "- using right budget in a company can enable huge change \n",
    "# **Exam tip** \n",
    "- Capital expenditure is buying hardware outright paid upfront as a one time purchase \n",
    "# Azure Services \n",
    "## Compute \n",
    "| Service Name  | Service Function |\n",
    "|---|---|\n",
    "| Azure Virtual Machines | Windows or Linux virtual machines (VMs) hosted in Azure. |\n",
    "| Azure Virtual Machine Scale Sets | Scaling for Windows or Linux VMs hosted in Azure. |\n",
    "| Azure Kubernetes Service | Cluster management for VMs that run containerized services. |\n",
    "| Azure Service Fabric | Distributed system platform that run in azure or on premises. |\n",
    "| Azure Batch  | Managed service for parllel and high-performance computing applications |\n",
    "| Azure Container Instance | Containerized apps run on Azure without provisioning servers or VMs  |\n",
    "| Azure functions  | An event-driven serverless compute-service |\n",
    "|  |  |\n",
    "\n",
    "\n"
   ]
  },
  {
   "cell_type": "markdown",
   "metadata": {},
   "source": [
    "### 3 Cloud Service Modles \n",
    "\n",
    "- Infarstucture-as-a-service(IaaS)\n",
    "- Platform-as-a-Service(PaaS)\n",
    "- Software-as-a-Service \n",
    "\n",
    "\n"
   ]
  }
 ],
 "metadata": {
  "kernelspec": {
   "display_name": ".NET (C#)",
   "language": "C#",
   "name": ".net-csharp"
  },
  "language_info": {
   "name": "polyglot-notebook"
  },
  "orig_nbformat": 4,
  "polyglot_notebook": {
   "kernelInfo": {
    "defaultKernelName": "csharp",
    "items": [
     {
      "aliases": [],
      "name": "csharp"
     }
    ]
   }
  }
 },
 "nbformat": 4,
 "nbformat_minor": 2
}
